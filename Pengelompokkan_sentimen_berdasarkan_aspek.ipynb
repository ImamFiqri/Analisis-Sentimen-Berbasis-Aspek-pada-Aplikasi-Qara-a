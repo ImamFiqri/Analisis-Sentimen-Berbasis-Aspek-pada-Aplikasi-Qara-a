{
  "nbformat": 4,
  "nbformat_minor": 0,
  "metadata": {
    "colab": {
      "provenance": []
    },
    "kernelspec": {
      "name": "python3",
      "display_name": "Python 3"
    },
    "language_info": {
      "name": "python"
    }
  },
  "cells": [
    {
      "cell_type": "code",
      "source": [
        "import pandas as pd\n",
        "\n",
        "# Baca file CSV\n",
        "file_path = 'Data aspek-aspek.csv'\n",
        "data = pd.read_csv(file_path)\n",
        "\n",
        "# Daftar kolom untuk dianalisis\n",
        "columns = ['Fitur', 'Pelayanan', 'Pengalaman', 'Religiusitas', 'Umum']\n",
        "\n",
        "# Fungsi untuk menghitung jumlah sentimen\n",
        "summary = {\n",
        "    \"Aspek\": [],\n",
        "    \"Negatif (-1)\": [],\n",
        "    \"Netral (1)\": [],\n",
        "    \"Positif (2)\": []\n",
        "}\n",
        "\n",
        "for column in columns:\n",
        "    summary[\"Aspek\"].append(column.capitalize())\n",
        "    summary[\"Negatif (-1)\"].append((data[column] == -1).sum())\n",
        "    summary[\"Netral (1)\"].append((data[column] == 1).sum())\n",
        "    summary[\"Positif (2)\"].append((data[column] == 2).sum())\n",
        "\n",
        "# Buat DataFrame hasil\n",
        "summary_df = pd.DataFrame(summary)\n",
        "\n",
        "# Simpan hasil ke file baru\n",
        "output_path = 'Aspek_sentimen_summary.csv'\n",
        "summary_df.to_csv(output_path, index=False)\n",
        "\n",
        "print(f\"Ringkasan sentimen telah disimpan di: {output_path}\")\n"
      ],
      "metadata": {
        "colab": {
          "base_uri": "https://localhost:8080/"
        },
        "id": "sG97lK2SZ7VE",
        "outputId": "7418cb12-0d70-4793-8242-30f583a88513"
      },
      "execution_count": 2,
      "outputs": [
        {
          "output_type": "stream",
          "name": "stdout",
          "text": [
            "Ringkasan sentimen telah disimpan di: Aspek_sentimen_summary.csv\n"
          ]
        }
      ]
    }
  ]
}